{
 "cells": [
  {
   "cell_type": "code",
   "execution_count": 0,
   "metadata": {
    "application/vnd.databricks.v1+cell": {
     "cellMetadata": {
      "byteLimit": 2048000,
      "rowLimit": 10000
     },
     "inputWidgets": {},
     "nuid": "76174f0d-085f-4e1f-a659-62ebc54897d8",
     "showTitle": true,
     "title": "Libraries"
    }
   },
   "outputs": [],
   "source": [
    "from pyspark import SparkContext\n",
    "from pyspark.sql import Window, Row, SparkSession\n",
    "from pyspark.sql.functions import *\n",
    "from pyspark.sql.types import *"
   ]
  },
  {
   "cell_type": "code",
   "execution_count": 0,
   "metadata": {
    "application/vnd.databricks.v1+cell": {
     "cellMetadata": {
      "byteLimit": 2048000,
      "rowLimit": 10000
     },
     "inputWidgets": {},
     "nuid": "c9860570-9519-47f0-9828-717ea08af754",
     "showTitle": true,
     "title": "Load the data and create a dataframe"
    }
   },
   "outputs": [],
   "source": [
    "# create dataframes from each CSV file\n",
    "teams_df = spark.read.format(\"csv\").option(\"header\", \"true\").option(\"inferSchema\",\"true\").load(\"dbfs:/FileStore/shared_uploads/brijeshpatel4547@gmail.com/Teams.csv\")\n",
    "\n",
    "#matches_df = spark.read.format(\"csv\").option(\"header\", \"true\").option(\"inferSchema\",\"true\").load(\"dbfs:/FileStore/shared_uploads/brijeshpatel4547@gmail.com/Matches.csv\")\n",
    "\n",
    "teams_in_matches_df = spark.read.format(\"csv\").option(\"header\", \"true\").option(\"inferSchema\",\"true\").load(\"dbfs:/FileStore/shared_uploads/brijeshpatel4547@gmail.com/Teams_in_Matches.csv\")\n",
    "\n",
    "unique_teams_df = spark.read.format(\"csv\").option(\"header\", \"true\").option(\"inferSchema\",\"true\").load(\"dbfs:/FileStore/shared_uploads/brijeshpatel4547@gmail.com/Unique_Teams.csv\")"
   ]
  },
  {
   "cell_type": "code",
   "execution_count": 0,
   "metadata": {
    "application/vnd.databricks.v1+cell": {
     "cellMetadata": {
      "byteLimit": 2048000,
      "rowLimit": 10000
     },
     "inputWidgets": {},
     "nuid": "b937d0b7-5553-424e-9719-006fa1384cc7",
     "showTitle": false,
     "title": ""
    }
   },
   "outputs": [
    {
     "output_type": "stream",
     "name": "stdout",
     "output_type": "stream",
     "text": [
      "+--------+---+------+----------+-------------+--------------+----+----+---+\n|Match_ID|Div|Season|      Date|     HomeTeam|      AwayTeam|FTHG|FTAG|FTR|\n+--------+---+------+----------+-------------+--------------+----+----+---+\n|       1| D2|  2009|2010-04-04|   Oberhausen|Kaiserslautern|   2|   1|  H|\n|       2| D2|  2009|2009-11-01|  Munich 1860|Kaiserslautern|   0|   1|  A|\n|       3| D2|  2009|2009-10-04|Frankfurt FSV|Kaiserslautern|   1|   1|  D|\n|       4| D2|  2009|2010-02-21|Frankfurt FSV|     Karlsruhe|   2|   1|  H|\n|       5| D2|  2009|2009-12-06|        Ahlen|     Karlsruhe|   1|   3|  A|\n+--------+---+------+----------+-------------+--------------+----+----+---+\n\n"
     ]
    }
   ],
   "source": [
    "matches_df = spark.read.format(\"csv\").option(\"header\", \"true\").option(\"inferSchema\",\"true\").load(\"dbfs:/FileStore/shared_uploads/brijeshpatel4547@gmail.com/Matches.csv\")\n",
    "\n",
    "matches_df.limit(5).show()"
   ]
  },
  {
   "cell_type": "code",
   "execution_count": 0,
   "metadata": {
    "application/vnd.databricks.v1+cell": {
     "cellMetadata": {
      "byteLimit": 2048000,
      "rowLimit": 10000
     },
     "inputWidgets": {},
     "nuid": "363ebc55-56ff-45de-8ee9-4f1a3d0bf7ab",
     "showTitle": false,
     "title": ""
    }
   },
   "outputs": [
    {
     "output_type": "stream",
     "name": "stdout",
     "output_type": "stream",
     "text": [
      "['FTHG', 'FTAG', 'FTR']\n+--------+---+------+----------+-------------+--------------+-------------+-------------+-----------+\n|Match_ID|Div|Season|      Date|     HomeTeam|      AwayTeam|HomeTeamGoals|AwayTeamGoals|FinalResult|\n+--------+---+------+----------+-------------+--------------+-------------+-------------+-----------+\n|       1| D2|  2009|2010-04-04|   Oberhausen|Kaiserslautern|            2|            1|          H|\n|       2| D2|  2009|2009-11-01|  Munich 1860|Kaiserslautern|            0|            1|          A|\n|       3| D2|  2009|2009-10-04|Frankfurt FSV|Kaiserslautern|            1|            1|          D|\n|       4| D2|  2009|2010-02-21|Frankfurt FSV|     Karlsruhe|            2|            1|          H|\n|       5| D2|  2009|2009-12-06|        Ahlen|     Karlsruhe|            1|            3|          A|\n+--------+---+------+----------+-------------+--------------+-------------+-------------+-----------+\n\n"
     ]
    }
   ],
   "source": [
    "# Rename the last three column names\n",
    "old_cols = matches_df.columns[-3:]\n",
    "new_cols = ['HomeTeamGoals','AwayTeamGoals','FinalResult']\n",
    "cols_tuple = [*zip(old_cols,new_cols)]\n",
    "for old_cols,new_cols in cols_tuple:\n",
    "    matches_df = matches_df.withColumnRenamed(old_cols,new_cols)\n",
    "\n",
    "matches_df.limit(5).show()"
   ]
  },
  {
   "cell_type": "code",
   "execution_count": 0,
   "metadata": {
    "application/vnd.databricks.v1+cell": {
     "cellMetadata": {
      "byteLimit": 2048000,
      "rowLimit": 10000
     },
     "inputWidgets": {},
     "nuid": "878b2bdf-ab75-40b3-b734-3c58c771b0ff",
     "showTitle": false,
     "title": ""
    }
   },
   "outputs": [
    {
     "output_type": "execute_result",
     "data": {
      "text/html": [
       "<div>\n",
       "<style scoped>\n",
       "    .dataframe tbody tr th:only-of-type {\n",
       "        vertical-align: middle;\n",
       "    }\n",
       "\n",
       "    .dataframe tbody tr th {\n",
       "        vertical-align: top;\n",
       "    }\n",
       "\n",
       "    .dataframe thead th {\n",
       "        text-align: right;\n",
       "    }\n",
       "</style>\n",
       "<table border=\"1\" class=\"dataframe\">\n",
       "  <thead>\n",
       "    <tr style=\"text-align: right;\">\n",
       "      <th></th>\n",
       "      <th>Match_ID</th>\n",
       "      <th>Div</th>\n",
       "      <th>Season</th>\n",
       "      <th>Date</th>\n",
       "      <th>HomeTeam</th>\n",
       "      <th>AwayTeam</th>\n",
       "      <th>HomeTeamGoals</th>\n",
       "      <th>AwayTeamGoals</th>\n",
       "      <th>FinalResult</th>\n",
       "      <th>HomeTeamWin</th>\n",
       "      <th>AwayTeamWin</th>\n",
       "      <th>GameTie</th>\n",
       "    </tr>\n",
       "  </thead>\n",
       "  <tbody>\n",
       "    <tr>\n",
       "      <th>0</th>\n",
       "      <td>1</td>\n",
       "      <td>D2</td>\n",
       "      <td>2009</td>\n",
       "      <td>2010-04-04</td>\n",
       "      <td>Oberhausen</td>\n",
       "      <td>Kaiserslautern</td>\n",
       "      <td>2</td>\n",
       "      <td>1</td>\n",
       "      <td>H</td>\n",
       "      <td>1</td>\n",
       "      <td>0</td>\n",
       "      <td>0</td>\n",
       "    </tr>\n",
       "    <tr>\n",
       "      <th>1</th>\n",
       "      <td>2</td>\n",
       "      <td>D2</td>\n",
       "      <td>2009</td>\n",
       "      <td>2009-11-01</td>\n",
       "      <td>Munich 1860</td>\n",
       "      <td>Kaiserslautern</td>\n",
       "      <td>0</td>\n",
       "      <td>1</td>\n",
       "      <td>A</td>\n",
       "      <td>0</td>\n",
       "      <td>1</td>\n",
       "      <td>0</td>\n",
       "    </tr>\n",
       "    <tr>\n",
       "      <th>2</th>\n",
       "      <td>3</td>\n",
       "      <td>D2</td>\n",
       "      <td>2009</td>\n",
       "      <td>2009-10-04</td>\n",
       "      <td>Frankfurt FSV</td>\n",
       "      <td>Kaiserslautern</td>\n",
       "      <td>1</td>\n",
       "      <td>1</td>\n",
       "      <td>D</td>\n",
       "      <td>0</td>\n",
       "      <td>0</td>\n",
       "      <td>1</td>\n",
       "    </tr>\n",
       "    <tr>\n",
       "      <th>3</th>\n",
       "      <td>4</td>\n",
       "      <td>D2</td>\n",
       "      <td>2009</td>\n",
       "      <td>2010-02-21</td>\n",
       "      <td>Frankfurt FSV</td>\n",
       "      <td>Karlsruhe</td>\n",
       "      <td>2</td>\n",
       "      <td>1</td>\n",
       "      <td>H</td>\n",
       "      <td>1</td>\n",
       "      <td>0</td>\n",
       "      <td>0</td>\n",
       "    </tr>\n",
       "    <tr>\n",
       "      <th>4</th>\n",
       "      <td>5</td>\n",
       "      <td>D2</td>\n",
       "      <td>2009</td>\n",
       "      <td>2009-12-06</td>\n",
       "      <td>Ahlen</td>\n",
       "      <td>Karlsruhe</td>\n",
       "      <td>1</td>\n",
       "      <td>3</td>\n",
       "      <td>A</td>\n",
       "      <td>0</td>\n",
       "      <td>1</td>\n",
       "      <td>0</td>\n",
       "    </tr>\n",
       "  </tbody>\n",
       "</table>\n",
       "</div>"
      ],
      "text/plain": [
       "   Match_ID Div  Season  ... HomeTeamWin AwayTeamWin GameTie\n",
       "0         1  D2    2009  ...           1           0       0\n",
       "1         2  D2    2009  ...           0           1       0\n",
       "2         3  D2    2009  ...           0           0       1\n",
       "3         4  D2    2009  ...           1           0       0\n",
       "4         5  D2    2009  ...           0           1       0\n",
       "\n",
       "[5 rows x 12 columns]"
      ]
     },
     "execution_count": 23,
     "metadata": {},
     "output_type": "execute_result"
    }
   ],
   "source": [
    "matches_df.limit(5).toPandas()"
   ]
  },
  {
   "cell_type": "code",
   "execution_count": 0,
   "metadata": {
    "application/vnd.databricks.v1+cell": {
     "cellMetadata": {
      "byteLimit": 2048000,
      "rowLimit": 10000
     },
     "inputWidgets": {},
     "nuid": "3304f5cc-b665-4d67-8176-adce719db574",
     "showTitle": false,
     "title": ""
    }
   },
   "outputs": [],
   "source": [
    "#Who are the winners of the D1 division in the Germany Football Association (Bundesliga) between 2000–2010?\n",
    "# Add 3 columns into matches_df which Shows Home Team Wins, Away Team Wins and Tied Games\n",
    "matches_df = matches_df \\\n",
    "    .withColumn('HomeTeamWin', when(col('FinalResult') == 'H', 1).otherwise(0)) \\\n",
    "    .withColumn('AwayTeamWin', when(col('FinalResult') == 'A', 1).otherwise(0)) \\\n",
    "    .withColumn('GameTie', when(col('FinalResult') == 'D', 1).otherwise(0))\n",
    "\n",
    "# D1 Division = Bundesliga => Filter the matches dataframe and get the D1 matches between 2000 and 2010\n",
    "bundesliga_df = matches_df.filter((col('Div') == 'D1') & \n",
    "                         (col('Season') >= '2000') & (col('Season') <= '2010')                        \n",
    "                         )\n",
    "\n",
    "bundesliga_df.show(5)"
   ]
  },
  {
   "cell_type": "code",
   "execution_count": 0,
   "metadata": {
    "application/vnd.databricks.v1+cell": {
     "cellMetadata": {
      "byteLimit": 2048000,
      "rowLimit": 10000
     },
     "inputWidgets": {},
     "nuid": "1149c5c5-dd2f-4b66-a819-3d8951b1f08b",
     "showTitle": false,
     "title": ""
    }
   },
   "outputs": [
    {
     "output_type": "stream",
     "name": "stdout",
     "output_type": "stream",
     "text": [
      "+------+-------------+--------+----------+---------+---------------+-----------------+\n|Season|         Team|HomeWins|HomeLosses|HomeDraws|HomeGoalsScored|HomeGoalsConceded|\n+------+-------------+--------+----------+---------+---------------+-----------------+\n|  2000|Bayern Munich|      12|         4|        1|             37|               20|\n|  2000|       Bochum|       5|         8|        4|             20|               28|\n|  2000|      Cottbus|      10|         6|        1|             27|               20|\n|  2000|     Dortmund|       9|         4|        4|             34|               20|\n|  2000|Ein Frankfurt|       8|         6|        3|             26|               22|\n+------+-------------+--------+----------+---------+---------------+-----------------+\nonly showing top 5 rows\n\n"
     ]
    }
   ],
   "source": [
    "# Home team fixtures\n",
    "home_df = bundesliga_df.groupBy(\"Season\",\"HomeTeam\") \\\n",
    "            .agg(sum('HomeTeamWin').alias('HomeWins'), \\\n",
    "                sum('AwayTeamWin').alias('HomeLosses'), \\\n",
    "                sum('GameTie').alias(\"HomeDraws\"),   \\\n",
    "                sum('HomeTeamGoals').alias(\"HomeGoalsScored\"), \\\n",
    "                sum('AwayTeamGoals').alias(\"HomeGoalsConceded\") ) \\\n",
    "            .withColumnRenamed('HomeTeam','Team') \\\n",
    "            .orderBy('Season','Team')\n",
    "home_df.show(5)\n"
   ]
  },
  {
   "cell_type": "code",
   "execution_count": 0,
   "metadata": {
    "application/vnd.databricks.v1+cell": {
     "cellMetadata": {
      "byteLimit": 2048000,
      "rowLimit": 10000
     },
     "inputWidgets": {},
     "nuid": "f4404a13-b959-4981-a2f7-3d31c96940fb",
     "showTitle": false,
     "title": ""
    }
   },
   "outputs": [
    {
     "output_type": "stream",
     "name": "stdout",
     "output_type": "stream",
     "text": [
      "+------+-------------+--------+----------+---------+---------------+-----------------+\n|Season|         Team|AwayWins|AwayLosses|AwayDraws|AwayGoalsScored|AwayGoalsConceded|\n+------+-------------+--------+----------+---------+---------------+-----------------+\n|  2000|Bayern Munich|       7|         5|        5|             25|               17|\n|  2000|       Bochum|       2|        13|        2|             10|               39|\n|  2000|      Cottbus|       2|        13|        2|             11|               32|\n|  2000|     Dortmund|       7|         4|        6|             28|               22|\n|  2000|Ein Frankfurt|       2|        13|        2|             15|               46|\n+------+-------------+--------+----------+---------+---------------+-----------------+\nonly showing top 5 rows\n\n"
     ]
    }
   ],
   "source": [
    "# Away Team Fixtures\n",
    "away_df = bundesliga_df.groupBy(\"Season\",\"AwayTeam\") \\\n",
    "            .agg(sum('AwayTeamWin').alias('AwayWins'), \\\n",
    "                sum('HomeTeamWin').alias('AwayLosses'), \\\n",
    "                sum('GameTie').alias(\"AwayDraws\"),   \\\n",
    "                sum('AwayTeamGoals').alias(\"AwayGoalsScored\"), \\\n",
    "                sum('HomeTeamGoals').alias(\"AwayGoalsConceded\") ) \\\n",
    "            .withColumnRenamed('AwayTeam','Team') \\\n",
    "            .orderBy('Season','Team')\n",
    "away_df.show(5)"
   ]
  },
  {
   "cell_type": "code",
   "execution_count": 0,
   "metadata": {
    "application/vnd.databricks.v1+cell": {
     "cellMetadata": {
      "byteLimit": 2048000,
      "rowLimit": 10000
     },
     "inputWidgets": {},
     "nuid": "8e340f5b-ba7a-44e7-9650-810852d7dee0",
     "showTitle": false,
     "title": ""
    }
   },
   "outputs": [
    {
     "output_type": "execute_result",
     "data": {
      "text/html": [
       "<div>\n",
       "<style scoped>\n",
       "    .dataframe tbody tr th:only-of-type {\n",
       "        vertical-align: middle;\n",
       "    }\n",
       "\n",
       "    .dataframe tbody tr th {\n",
       "        vertical-align: top;\n",
       "    }\n",
       "\n",
       "    .dataframe thead th {\n",
       "        text-align: right;\n",
       "    }\n",
       "</style>\n",
       "<table border=\"1\" class=\"dataframe\">\n",
       "  <thead>\n",
       "    <tr style=\"text-align: right;\">\n",
       "      <th></th>\n",
       "      <th>Team</th>\n",
       "      <th>Season</th>\n",
       "      <th>GoalsScored</th>\n",
       "      <th>GoalsConceded</th>\n",
       "      <th>GoalDifference</th>\n",
       "      <th>TotalWins</th>\n",
       "      <th>TotalLosses</th>\n",
       "      <th>TotalDraws</th>\n",
       "      <th>Win%</th>\n",
       "      <th>Position</th>\n",
       "    </tr>\n",
       "  </thead>\n",
       "  <tbody>\n",
       "    <tr>\n",
       "      <th>0</th>\n",
       "      <td>Bayern Munich</td>\n",
       "      <td>2000</td>\n",
       "      <td>62</td>\n",
       "      <td>37</td>\n",
       "      <td>25</td>\n",
       "      <td>19</td>\n",
       "      <td>9</td>\n",
       "      <td>6</td>\n",
       "      <td>55.88</td>\n",
       "      <td>1</td>\n",
       "    </tr>\n",
       "    <tr>\n",
       "      <th>1</th>\n",
       "      <td>Leverkusen</td>\n",
       "      <td>2001</td>\n",
       "      <td>77</td>\n",
       "      <td>38</td>\n",
       "      <td>39</td>\n",
       "      <td>21</td>\n",
       "      <td>7</td>\n",
       "      <td>6</td>\n",
       "      <td>61.76</td>\n",
       "      <td>1</td>\n",
       "    </tr>\n",
       "    <tr>\n",
       "      <th>2</th>\n",
       "      <td>Bayern Munich</td>\n",
       "      <td>2002</td>\n",
       "      <td>70</td>\n",
       "      <td>25</td>\n",
       "      <td>45</td>\n",
       "      <td>23</td>\n",
       "      <td>5</td>\n",
       "      <td>6</td>\n",
       "      <td>67.65</td>\n",
       "      <td>1</td>\n",
       "    </tr>\n",
       "    <tr>\n",
       "      <th>3</th>\n",
       "      <td>Werder Bremen</td>\n",
       "      <td>2003</td>\n",
       "      <td>79</td>\n",
       "      <td>38</td>\n",
       "      <td>41</td>\n",
       "      <td>22</td>\n",
       "      <td>4</td>\n",
       "      <td>8</td>\n",
       "      <td>64.71</td>\n",
       "      <td>1</td>\n",
       "    </tr>\n",
       "    <tr>\n",
       "      <th>4</th>\n",
       "      <td>Bayern Munich</td>\n",
       "      <td>2004</td>\n",
       "      <td>75</td>\n",
       "      <td>33</td>\n",
       "      <td>42</td>\n",
       "      <td>24</td>\n",
       "      <td>5</td>\n",
       "      <td>5</td>\n",
       "      <td>70.59</td>\n",
       "      <td>1</td>\n",
       "    </tr>\n",
       "    <tr>\n",
       "      <th>5</th>\n",
       "      <td>Bayern Munich</td>\n",
       "      <td>2005</td>\n",
       "      <td>67</td>\n",
       "      <td>32</td>\n",
       "      <td>35</td>\n",
       "      <td>22</td>\n",
       "      <td>3</td>\n",
       "      <td>9</td>\n",
       "      <td>64.71</td>\n",
       "      <td>1</td>\n",
       "    </tr>\n",
       "    <tr>\n",
       "      <th>6</th>\n",
       "      <td>Stuttgart</td>\n",
       "      <td>2006</td>\n",
       "      <td>61</td>\n",
       "      <td>37</td>\n",
       "      <td>24</td>\n",
       "      <td>21</td>\n",
       "      <td>6</td>\n",
       "      <td>7</td>\n",
       "      <td>61.76</td>\n",
       "      <td>1</td>\n",
       "    </tr>\n",
       "    <tr>\n",
       "      <th>7</th>\n",
       "      <td>Bayern Munich</td>\n",
       "      <td>2007</td>\n",
       "      <td>68</td>\n",
       "      <td>21</td>\n",
       "      <td>47</td>\n",
       "      <td>22</td>\n",
       "      <td>2</td>\n",
       "      <td>10</td>\n",
       "      <td>64.71</td>\n",
       "      <td>1</td>\n",
       "    </tr>\n",
       "    <tr>\n",
       "      <th>8</th>\n",
       "      <td>Wolfsburg</td>\n",
       "      <td>2008</td>\n",
       "      <td>80</td>\n",
       "      <td>41</td>\n",
       "      <td>39</td>\n",
       "      <td>21</td>\n",
       "      <td>7</td>\n",
       "      <td>6</td>\n",
       "      <td>61.76</td>\n",
       "      <td>1</td>\n",
       "    </tr>\n",
       "    <tr>\n",
       "      <th>9</th>\n",
       "      <td>Bayern Munich</td>\n",
       "      <td>2009</td>\n",
       "      <td>72</td>\n",
       "      <td>31</td>\n",
       "      <td>41</td>\n",
       "      <td>20</td>\n",
       "      <td>4</td>\n",
       "      <td>10</td>\n",
       "      <td>58.82</td>\n",
       "      <td>1</td>\n",
       "    </tr>\n",
       "    <tr>\n",
       "      <th>10</th>\n",
       "      <td>Dortmund</td>\n",
       "      <td>2010</td>\n",
       "      <td>67</td>\n",
       "      <td>22</td>\n",
       "      <td>45</td>\n",
       "      <td>23</td>\n",
       "      <td>5</td>\n",
       "      <td>6</td>\n",
       "      <td>67.65</td>\n",
       "      <td>1</td>\n",
       "    </tr>\n",
       "  </tbody>\n",
       "</table>\n",
       "</div>"
      ],
      "text/plain": [
       "             Team  Season  GoalsScored  ...  TotalDraws   Win%  Position\n",
       "0   Bayern Munich    2000           62  ...           6  55.88         1\n",
       "1      Leverkusen    2001           77  ...           6  61.76         1\n",
       "2   Bayern Munich    2002           70  ...           6  67.65         1\n",
       "3   Werder Bremen    2003           79  ...           8  64.71         1\n",
       "4   Bayern Munich    2004           75  ...           5  70.59         1\n",
       "5   Bayern Munich    2005           67  ...           9  64.71         1\n",
       "6       Stuttgart    2006           61  ...           7  61.76         1\n",
       "7   Bayern Munich    2007           68  ...          10  64.71         1\n",
       "8       Wolfsburg    2008           80  ...           6  61.76         1\n",
       "9   Bayern Munich    2009           72  ...          10  58.82         1\n",
       "10       Dortmund    2010           67  ...           6  67.65         1\n",
       "\n",
       "[11 rows x 10 columns]"
      ]
     },
     "execution_count": 41,
     "metadata": {},
     "output_type": "execute_result"
    }
   ],
   "source": [
    "# Join Home and Away on Team and Season:\n",
    "window = Window.partitionBy(\"Season\")\\\n",
    "            .orderBy(col('Win%').desc(), col('GoalDifference').desc())\n",
    "\n",
    "final_df = home_df.join(away_df,['Team','Season'],'inner') \\\n",
    "            .withColumn('GoalsScored',col('HomeGoalsScored') + col('AwayGoalsScored')) \\\n",
    "            .withColumn('GoalsConceded',col('HomeGoalsConceded') + col('AwayGoalsConceded')) \\\n",
    "            .withColumn('GoalDifference',col('GoalsScored') - col('GoalsConceded')) \\\n",
    "            .withColumn('TotalWins', col('HomeWins') + col('AwayWins')) \\\n",
    "            .withColumn('TotalLosses', col('HomeLosses') + col('AwayLosses')) \\\n",
    "            .withColumn('TotalDraws', col('HomeDraws') + col('AwayDraws')) \\\n",
    "            .withColumn('Win%',round((100 * col('TotalWins')/(col('TotalWins')+col('TotalLosses')+col('TotalDraws'))),2)) \\\n",
    "            .drop('HomeGoalsScored','AwayGoalsScored','HomeGoalsConceded','AwayGoalsConceded','HomeWins','AwayWins','HomeLosses') \\\n",
    "            .drop('AwayLosses','HomeDraws','AwayDraws') \\\n",
    "            .withColumn('Position',rank().over(window))\n",
    "\n",
    "winners = final_df.filter(col('Position') == '1').orderBy(asc('Season')).toPandas()\n",
    "winners\n"
   ]
  },
  {
   "cell_type": "code",
   "execution_count": 0,
   "metadata": {
    "application/vnd.databricks.v1+cell": {
     "cellMetadata": {
      "byteLimit": 2048000,
      "rowLimit": 10000
     },
     "inputWidgets": {},
     "nuid": "c39a7671-d178-460b-b7d6-0474648aa9e9",
     "showTitle": false,
     "title": ""
    }
   },
   "outputs": [
    {
     "output_type": "execute_result",
     "data": {
      "text/html": [
       "<div>\n",
       "<style scoped>\n",
       "    .dataframe tbody tr th:only-of-type {\n",
       "        vertical-align: middle;\n",
       "    }\n",
       "\n",
       "    .dataframe tbody tr th {\n",
       "        vertical-align: top;\n",
       "    }\n",
       "\n",
       "    .dataframe thead th {\n",
       "        text-align: right;\n",
       "    }\n",
       "</style>\n",
       "<table border=\"1\" class=\"dataframe\">\n",
       "  <thead>\n",
       "    <tr style=\"text-align: right;\">\n",
       "      <th></th>\n",
       "      <th>Team</th>\n",
       "      <th>Total_Championships</th>\n",
       "      <th>AvgWin%</th>\n",
       "      <th>AvgGD</th>\n",
       "      <th>AvgWins</th>\n",
       "      <th>AvgLosses</th>\n",
       "      <th>AvgDraws</th>\n",
       "    </tr>\n",
       "  </thead>\n",
       "  <tbody>\n",
       "    <tr>\n",
       "      <th>0</th>\n",
       "      <td>Bayern Munich</td>\n",
       "      <td>6</td>\n",
       "      <td>63.7</td>\n",
       "      <td>39.2</td>\n",
       "      <td>21.7</td>\n",
       "      <td>4.7</td>\n",
       "      <td>7.7</td>\n",
       "    </tr>\n",
       "    <tr>\n",
       "      <th>1</th>\n",
       "      <td>Werder Bremen</td>\n",
       "      <td>1</td>\n",
       "      <td>64.7</td>\n",
       "      <td>41.0</td>\n",
       "      <td>22.0</td>\n",
       "      <td>4.0</td>\n",
       "      <td>8.0</td>\n",
       "    </tr>\n",
       "    <tr>\n",
       "      <th>2</th>\n",
       "      <td>Leverkusen</td>\n",
       "      <td>1</td>\n",
       "      <td>61.8</td>\n",
       "      <td>39.0</td>\n",
       "      <td>21.0</td>\n",
       "      <td>7.0</td>\n",
       "      <td>6.0</td>\n",
       "    </tr>\n",
       "    <tr>\n",
       "      <th>3</th>\n",
       "      <td>Wolfsburg</td>\n",
       "      <td>1</td>\n",
       "      <td>61.8</td>\n",
       "      <td>39.0</td>\n",
       "      <td>21.0</td>\n",
       "      <td>7.0</td>\n",
       "      <td>6.0</td>\n",
       "    </tr>\n",
       "    <tr>\n",
       "      <th>4</th>\n",
       "      <td>Stuttgart</td>\n",
       "      <td>1</td>\n",
       "      <td>61.8</td>\n",
       "      <td>24.0</td>\n",
       "      <td>21.0</td>\n",
       "      <td>6.0</td>\n",
       "      <td>7.0</td>\n",
       "    </tr>\n",
       "    <tr>\n",
       "      <th>5</th>\n",
       "      <td>Dortmund</td>\n",
       "      <td>1</td>\n",
       "      <td>67.6</td>\n",
       "      <td>45.0</td>\n",
       "      <td>23.0</td>\n",
       "      <td>5.0</td>\n",
       "      <td>6.0</td>\n",
       "    </tr>\n",
       "  </tbody>\n",
       "</table>\n",
       "</div>"
      ],
      "text/plain": [
       "            Team  Total_Championships  AvgWin%  ...  AvgWins  AvgLosses  AvgDraws\n",
       "0  Bayern Munich                    6     63.7  ...     21.7        4.7       7.7\n",
       "1  Werder Bremen                    1     64.7  ...     22.0        4.0       8.0\n",
       "2     Leverkusen                    1     61.8  ...     21.0        7.0       6.0\n",
       "3      Wolfsburg                    1     61.8  ...     21.0        7.0       6.0\n",
       "4      Stuttgart                    1     61.8  ...     21.0        6.0       7.0\n",
       "5       Dortmund                    1     67.6  ...     23.0        5.0       6.0\n",
       "\n",
       "[6 rows x 7 columns]"
      ]
     },
     "execution_count": 48,
     "metadata": {},
     "output_type": "execute_result"
    }
   ],
   "source": [
    "# Total Championships wons by each team in D1 and between 2000-2010\n",
    "q2_df = final_df.filter(col('Position') == '1').groupBy('Team') \\\n",
    "            .agg(count('Team').alias(\"Total_Championships\"),\n",
    "                 avg('Win%').alias('AvgWin%'),\n",
    "                 avg('GoalDifference').alias('AvgGD'),\n",
    "                 avg('TotalWins').alias('AvgWins'),\n",
    "                 avg('TotalLosses').alias('AvgLosses'),\n",
    "                 avg('TotalDraws').alias('AvgDraws')) \\\n",
    "            .orderBy(desc(\"Total_Championships\"))\n",
    "q2_df.toPandas().round(1)"
   ]
  },
  {
   "cell_type": "code",
   "execution_count": 0,
   "metadata": {
    "application/vnd.databricks.v1+cell": {
     "cellMetadata": {
      "byteLimit": 2048000,
      "rowLimit": 10000
     },
     "inputWidgets": {},
     "nuid": "e5eae133-4782-4942-85c9-ee944db88870",
     "showTitle": false,
     "title": ""
    }
   },
   "outputs": [
    {
     "output_type": "execute_result",
     "data": {
      "text/html": [
       "<div>\n",
       "<style scoped>\n",
       "    .dataframe tbody tr th:only-of-type {\n",
       "        vertical-align: middle;\n",
       "    }\n",
       "\n",
       "    .dataframe tbody tr th {\n",
       "        vertical-align: top;\n",
       "    }\n",
       "\n",
       "    .dataframe thead th {\n",
       "        text-align: right;\n",
       "    }\n",
       "</style>\n",
       "<table border=\"1\" class=\"dataframe\">\n",
       "  <thead>\n",
       "    <tr style=\"text-align: right;\">\n",
       "      <th></th>\n",
       "      <th>Team</th>\n",
       "      <th>Season</th>\n",
       "      <th>GoalsScored</th>\n",
       "      <th>GoalsConceded</th>\n",
       "      <th>GoalDifference</th>\n",
       "      <th>TotalWins</th>\n",
       "      <th>TotalLosses</th>\n",
       "      <th>TotalDraws</th>\n",
       "      <th>Win%</th>\n",
       "      <th>Position</th>\n",
       "    </tr>\n",
       "  </thead>\n",
       "  <tbody>\n",
       "    <tr>\n",
       "      <th>0</th>\n",
       "      <td>Stuttgart</td>\n",
       "      <td>2000</td>\n",
       "      <td>42</td>\n",
       "      <td>49</td>\n",
       "      <td>-7</td>\n",
       "      <td>9</td>\n",
       "      <td>14</td>\n",
       "      <td>11</td>\n",
       "      <td>26.47</td>\n",
       "      <td>16</td>\n",
       "    </tr>\n",
       "    <tr>\n",
       "      <th>1</th>\n",
       "      <td>Unterhaching</td>\n",
       "      <td>2000</td>\n",
       "      <td>35</td>\n",
       "      <td>59</td>\n",
       "      <td>-24</td>\n",
       "      <td>8</td>\n",
       "      <td>15</td>\n",
       "      <td>11</td>\n",
       "      <td>23.53</td>\n",
       "      <td>17</td>\n",
       "    </tr>\n",
       "    <tr>\n",
       "      <th>2</th>\n",
       "      <td>Bochum</td>\n",
       "      <td>2000</td>\n",
       "      <td>30</td>\n",
       "      <td>67</td>\n",
       "      <td>-37</td>\n",
       "      <td>7</td>\n",
       "      <td>21</td>\n",
       "      <td>6</td>\n",
       "      <td>20.59</td>\n",
       "      <td>18</td>\n",
       "    </tr>\n",
       "    <tr>\n",
       "      <th>3</th>\n",
       "      <td>Freiburg</td>\n",
       "      <td>2001</td>\n",
       "      <td>37</td>\n",
       "      <td>64</td>\n",
       "      <td>-27</td>\n",
       "      <td>7</td>\n",
       "      <td>18</td>\n",
       "      <td>9</td>\n",
       "      <td>20.59</td>\n",
       "      <td>16</td>\n",
       "    </tr>\n",
       "    <tr>\n",
       "      <th>4</th>\n",
       "      <td>FC Koln</td>\n",
       "      <td>2001</td>\n",
       "      <td>26</td>\n",
       "      <td>61</td>\n",
       "      <td>-35</td>\n",
       "      <td>7</td>\n",
       "      <td>19</td>\n",
       "      <td>8</td>\n",
       "      <td>20.59</td>\n",
       "      <td>17</td>\n",
       "    </tr>\n",
       "  </tbody>\n",
       "</table>\n",
       "</div>"
      ],
      "text/plain": [
       "           Team  Season  GoalsScored  ...  TotalDraws   Win%  Position\n",
       "0     Stuttgart    2000           42  ...          11  26.47        16\n",
       "1  Unterhaching    2000           35  ...          11  23.53        17\n",
       "2        Bochum    2000           30  ...           6  20.59        18\n",
       "3      Freiburg    2001           37  ...           9  20.59        16\n",
       "4       FC Koln    2001           26  ...           8  20.59        17\n",
       "\n",
       "[5 rows x 10 columns]"
      ]
     },
     "execution_count": 51,
     "metadata": {},
     "output_type": "execute_result"
    }
   ],
   "source": [
    "#Which teams have been relegated in the past 2000 - 2010 years season wise?\n",
    "relegated = final_df.filter((col('position') == 16) | (col('position') == 17) | (col('position') == 18)).orderBy('Season')\n",
    "relegated.limit(5).toPandas()\n"
   ]
  },
  {
   "cell_type": "code",
   "execution_count": 0,
   "metadata": {
    "application/vnd.databricks.v1+cell": {
     "cellMetadata": {
      "byteLimit": 2048000,
      "rowLimit": 10000
     },
     "inputWidgets": {},
     "nuid": "d26ed0df-d0a5-4b9b-a574-1e62a0729f28",
     "showTitle": false,
     "title": ""
    }
   },
   "outputs": [
    {
     "output_type": "display_data",
     "data": {
      "image/png": "[encoded data removed]",
      "text/plain": [
       "<Figure size 1200x400 with 1 Axes>"
      ]
     },
     "metadata": {},
     "output_type": "display_data"
    },
    {
     "output_type": "display_data",
     "data": {
      "text/plain": [
       "\u001B[0;31m---------------------------------------------------------------------------\u001B[0m\n",
       "\u001B[0;31mAttributeError\u001B[0m                            Traceback (most recent call last)\n",
       "File \u001B[0;32m<command-779556864075812>, line 20\u001B[0m\n",
       "\u001B[1;32m     18\u001B[0m oktoberfest_df[\u001B[38;5;124m'\u001B[39m\u001B[38;5;124mGoalsPerGameRatio\u001B[39m\u001B[38;5;124m'\u001B[39m]\u001B[38;5;241m.\u001B[39mplot\u001B[38;5;241m.\u001B[39mbar(rot\u001B[38;5;241m=\u001B[39m\u001B[38;5;241m0\u001B[39m, color\u001B[38;5;241m=\u001B[39m\u001B[38;5;124m'\u001B[39m\u001B[38;5;124mred\u001B[39m\u001B[38;5;124m'\u001B[39m, figsize\u001B[38;5;241m=\u001B[39m(\u001B[38;5;241m12\u001B[39m, \u001B[38;5;241m4\u001B[39m))\n",
       "\u001B[1;32m     19\u001B[0m \u001B[38;5;66;03m#plt.ylabel('GoalsPerGameRatio')\u001B[39;00m\n",
       "\u001B[0;32m---> 20\u001B[0m plt\u001B[38;5;241m.\u001B[39mshow()\n",
       "\n",
       "File \u001B[0;32m/databricks/python/lib/python3.10/site-packages/matplotlib/_api/__init__.py:226\u001B[0m, in \u001B[0;36mcaching_module_getattr.<locals>.__getattr__\u001B[0;34m(name)\u001B[0m\n",
       "\u001B[1;32m    224\u001B[0m \u001B[38;5;28;01mif\u001B[39;00m name \u001B[38;5;129;01min\u001B[39;00m props:\n",
       "\u001B[1;32m    225\u001B[0m     \u001B[38;5;28;01mreturn\u001B[39;00m props[name]\u001B[38;5;241m.\u001B[39m\u001B[38;5;21m__get__\u001B[39m(instance)\n",
       "\u001B[0;32m--> 226\u001B[0m \u001B[38;5;28;01mraise\u001B[39;00m \u001B[38;5;167;01mAttributeError\u001B[39;00m(\n",
       "\u001B[1;32m    227\u001B[0m     \u001B[38;5;124mf\u001B[39m\u001B[38;5;124m\"\u001B[39m\u001B[38;5;124mmodule \u001B[39m\u001B[38;5;132;01m{\u001B[39;00m\u001B[38;5;28mcls\u001B[39m\u001B[38;5;241m.\u001B[39m\u001B[38;5;18m__module__\u001B[39m\u001B[38;5;132;01m!r}\u001B[39;00m\u001B[38;5;124m has no attribute \u001B[39m\u001B[38;5;132;01m{\u001B[39;00mname\u001B[38;5;132;01m!r}\u001B[39;00m\u001B[38;5;124m\"\u001B[39m)\n",
       "\n",
       "\u001B[0;31mAttributeError\u001B[0m: module 'matplotlib' has no attribute 'show'"
      ]
     },
     "metadata": {
      "application/vnd.databricks.v1+output": {
       "addedWidgets": {},
       "arguments": {},
       "datasetInfos": [],
       "jupyterProps": {
        "ename": "AttributeError",
        "evalue": "module 'matplotlib' has no attribute 'show'"
       },
       "metadata": {
        "errorSummary": "<span class='ansi-red-fg'>AttributeError</span>: module 'matplotlib' has no attribute 'show'"
       },
       "removedWidgets": [],
       "sqlProps": null,
       "stackFrames": [
        "\u001B[0;31m---------------------------------------------------------------------------\u001B[0m",
        "\u001B[0;31mAttributeError\u001B[0m                            Traceback (most recent call last)",
        "File \u001B[0;32m<command-779556864075812>, line 20\u001B[0m\n\u001B[1;32m     18\u001B[0m oktoberfest_df[\u001B[38;5;124m'\u001B[39m\u001B[38;5;124mGoalsPerGameRatio\u001B[39m\u001B[38;5;124m'\u001B[39m]\u001B[38;5;241m.\u001B[39mplot\u001B[38;5;241m.\u001B[39mbar(rot\u001B[38;5;241m=\u001B[39m\u001B[38;5;241m0\u001B[39m, color\u001B[38;5;241m=\u001B[39m\u001B[38;5;124m'\u001B[39m\u001B[38;5;124mred\u001B[39m\u001B[38;5;124m'\u001B[39m, figsize\u001B[38;5;241m=\u001B[39m(\u001B[38;5;241m12\u001B[39m, \u001B[38;5;241m4\u001B[39m))\n\u001B[1;32m     19\u001B[0m \u001B[38;5;66;03m#plt.ylabel('GoalsPerGameRatio')\u001B[39;00m\n\u001B[0;32m---> 20\u001B[0m plt\u001B[38;5;241m.\u001B[39mshow()\n",
        "File \u001B[0;32m/databricks/python/lib/python3.10/site-packages/matplotlib/_api/__init__.py:226\u001B[0m, in \u001B[0;36mcaching_module_getattr.<locals>.__getattr__\u001B[0;34m(name)\u001B[0m\n\u001B[1;32m    224\u001B[0m \u001B[38;5;28;01mif\u001B[39;00m name \u001B[38;5;129;01min\u001B[39;00m props:\n\u001B[1;32m    225\u001B[0m     \u001B[38;5;28;01mreturn\u001B[39;00m props[name]\u001B[38;5;241m.\u001B[39m\u001B[38;5;21m__get__\u001B[39m(instance)\n\u001B[0;32m--> 226\u001B[0m \u001B[38;5;28;01mraise\u001B[39;00m \u001B[38;5;167;01mAttributeError\u001B[39;00m(\n\u001B[1;32m    227\u001B[0m     \u001B[38;5;124mf\u001B[39m\u001B[38;5;124m\"\u001B[39m\u001B[38;5;124mmodule \u001B[39m\u001B[38;5;132;01m{\u001B[39;00m\u001B[38;5;28mcls\u001B[39m\u001B[38;5;241m.\u001B[39m\u001B[38;5;18m__module__\u001B[39m\u001B[38;5;132;01m!r}\u001B[39;00m\u001B[38;5;124m has no attribute \u001B[39m\u001B[38;5;132;01m{\u001B[39;00mname\u001B[38;5;132;01m!r}\u001B[39;00m\u001B[38;5;124m\"\u001B[39m)\n",
        "\u001B[0;31mAttributeError\u001B[0m: module 'matplotlib' has no attribute 'show'"
       ],
       "type": "baseError"
      }
     },
     "output_type": "display_data"
    }
   ],
   "source": [
    "# Does Oktoberfest have any effect on the performance of the overall league?\n",
    "import plotly as py\n",
    "import matplotlib as plt\n",
    "oktoberfest = matches_df.filter((col('Div') == 'D1') & (col('Season') >= 2000) & (col('Season') <= 2010) ) \\\n",
    "                       .withColumn('Month', month(col('Date'))) \\\n",
    "                       .groupBy('Month') \\\n",
    "                       .agg(sum(col('HomeTeamGoals')+col('AwayTeamGoals')).alias('Goals'),\n",
    "                            sum('GameTie').alias('GameTies'),\n",
    "                            count(col('FinalResult')).alias('Total')) \\\n",
    "                       .withColumn('GoalsPerGameRatio', round(col('Goals')/col('Total'),2)) \\\n",
    "                       .withColumn('TiesPerGameRatio',round(col('GameTies')/col('Total'),2))\n",
    "\n",
    "oktoberfest_df = oktoberfest.toPandas()\n",
    "\n",
    "oktoberfest_df = oktoberfest_df.sort_values('Month')\n",
    "#oktoberfest_df['Month'] = [calendar.month_name[val] for val in oktoberfest_df.Month.tolist()]\n",
    "oktoberfest_df.set_index('Month', drop=True, inplace=True)\n",
    "oktoberfest_df['GoalsPerGameRatio'].plot.bar(rot=0, color='red', figsize=(12, 4))\n",
    "#plt.ylabel('GoalsPerGameRatio')\n",
    "plt.show()\n",
    "                        \n",
    "                        "
   ]
  },
  {
   "cell_type": "code",
   "execution_count": 0,
   "metadata": {
    "application/vnd.databricks.v1+cell": {
     "cellMetadata": {
      "byteLimit": 2048000,
      "rowLimit": 10000
     },
     "inputWidgets": {},
     "nuid": "397e4851-0042-4191-9f2c-e82df42d2ac8",
     "showTitle": false,
     "title": ""
    }
   },
   "outputs": [
    {
     "output_type": "display_data",
     "data": {
      "image/png": "[encoded data removed]",
      "text/plain": [
       "<Figure size 1200x400 with 1 Axes>"
      ]
     },
     "metadata": {},
     "output_type": "display_data"
    },
    {
     "output_type": "display_data",
     "data": {
      "text/plain": [
       "\u001B[0;31m---------------------------------------------------------------------------\u001B[0m\n",
       "\u001B[0;31mAttributeError\u001B[0m                            Traceback (most recent call last)\n",
       "File \u001B[0;32m<command-779556864075813>, line 2\u001B[0m\n",
       "\u001B[1;32m      1\u001B[0m oktoberfest_df[\u001B[38;5;124m'\u001B[39m\u001B[38;5;124mTiesPerGameRatio\u001B[39m\u001B[38;5;124m'\u001B[39m]\u001B[38;5;241m.\u001B[39mplot\u001B[38;5;241m.\u001B[39mbar(rot\u001B[38;5;241m=\u001B[39m\u001B[38;5;241m0\u001B[39m, color\u001B[38;5;241m=\u001B[39m\u001B[38;5;124m'\u001B[39m\u001B[38;5;124mred\u001B[39m\u001B[38;5;124m'\u001B[39m, figsize\u001B[38;5;241m=\u001B[39m(\u001B[38;5;241m12\u001B[39m, \u001B[38;5;241m4\u001B[39m))\n",
       "\u001B[0;32m----> 2\u001B[0m plt\u001B[38;5;241m.\u001B[39mylabel(\u001B[38;5;124m'\u001B[39m\u001B[38;5;124mTiesPerGameRatio\u001B[39m\u001B[38;5;124m'\u001B[39m)\n",
       "\u001B[1;32m      3\u001B[0m plt\u001B[38;5;241m.\u001B[39mshow()\n",
       "\n",
       "File \u001B[0;32m/databricks/python/lib/python3.10/site-packages/matplotlib/_api/__init__.py:226\u001B[0m, in \u001B[0;36mcaching_module_getattr.<locals>.__getattr__\u001B[0;34m(name)\u001B[0m\n",
       "\u001B[1;32m    224\u001B[0m \u001B[38;5;28;01mif\u001B[39;00m name \u001B[38;5;129;01min\u001B[39;00m props:\n",
       "\u001B[1;32m    225\u001B[0m     \u001B[38;5;28;01mreturn\u001B[39;00m props[name]\u001B[38;5;241m.\u001B[39m\u001B[38;5;21m__get__\u001B[39m(instance)\n",
       "\u001B[0;32m--> 226\u001B[0m \u001B[38;5;28;01mraise\u001B[39;00m \u001B[38;5;167;01mAttributeError\u001B[39;00m(\n",
       "\u001B[1;32m    227\u001B[0m     \u001B[38;5;124mf\u001B[39m\u001B[38;5;124m\"\u001B[39m\u001B[38;5;124mmodule \u001B[39m\u001B[38;5;132;01m{\u001B[39;00m\u001B[38;5;28mcls\u001B[39m\u001B[38;5;241m.\u001B[39m\u001B[38;5;18m__module__\u001B[39m\u001B[38;5;132;01m!r}\u001B[39;00m\u001B[38;5;124m has no attribute \u001B[39m\u001B[38;5;132;01m{\u001B[39;00mname\u001B[38;5;132;01m!r}\u001B[39;00m\u001B[38;5;124m\"\u001B[39m)\n",
       "\n",
       "\u001B[0;31mAttributeError\u001B[0m: module 'matplotlib' has no attribute 'ylabel'"
      ]
     },
     "metadata": {
      "application/vnd.databricks.v1+output": {
       "addedWidgets": {},
       "arguments": {},
       "datasetInfos": [],
       "jupyterProps": {
        "ename": "AttributeError",
        "evalue": "module 'matplotlib' has no attribute 'ylabel'"
       },
       "metadata": {
        "errorSummary": "<span class='ansi-red-fg'>AttributeError</span>: module 'matplotlib' has no attribute 'ylabel'"
       },
       "removedWidgets": [],
       "sqlProps": null,
       "stackFrames": [
        "\u001B[0;31m---------------------------------------------------------------------------\u001B[0m",
        "\u001B[0;31mAttributeError\u001B[0m                            Traceback (most recent call last)",
        "File \u001B[0;32m<command-779556864075813>, line 2\u001B[0m\n\u001B[1;32m      1\u001B[0m oktoberfest_df[\u001B[38;5;124m'\u001B[39m\u001B[38;5;124mTiesPerGameRatio\u001B[39m\u001B[38;5;124m'\u001B[39m]\u001B[38;5;241m.\u001B[39mplot\u001B[38;5;241m.\u001B[39mbar(rot\u001B[38;5;241m=\u001B[39m\u001B[38;5;241m0\u001B[39m, color\u001B[38;5;241m=\u001B[39m\u001B[38;5;124m'\u001B[39m\u001B[38;5;124mred\u001B[39m\u001B[38;5;124m'\u001B[39m, figsize\u001B[38;5;241m=\u001B[39m(\u001B[38;5;241m12\u001B[39m, \u001B[38;5;241m4\u001B[39m))\n\u001B[0;32m----> 2\u001B[0m plt\u001B[38;5;241m.\u001B[39mylabel(\u001B[38;5;124m'\u001B[39m\u001B[38;5;124mTiesPerGameRatio\u001B[39m\u001B[38;5;124m'\u001B[39m)\n\u001B[1;32m      3\u001B[0m plt\u001B[38;5;241m.\u001B[39mshow()\n",
        "File \u001B[0;32m/databricks/python/lib/python3.10/site-packages/matplotlib/_api/__init__.py:226\u001B[0m, in \u001B[0;36mcaching_module_getattr.<locals>.__getattr__\u001B[0;34m(name)\u001B[0m\n\u001B[1;32m    224\u001B[0m \u001B[38;5;28;01mif\u001B[39;00m name \u001B[38;5;129;01min\u001B[39;00m props:\n\u001B[1;32m    225\u001B[0m     \u001B[38;5;28;01mreturn\u001B[39;00m props[name]\u001B[38;5;241m.\u001B[39m\u001B[38;5;21m__get__\u001B[39m(instance)\n\u001B[0;32m--> 226\u001B[0m \u001B[38;5;28;01mraise\u001B[39;00m \u001B[38;5;167;01mAttributeError\u001B[39;00m(\n\u001B[1;32m    227\u001B[0m     \u001B[38;5;124mf\u001B[39m\u001B[38;5;124m\"\u001B[39m\u001B[38;5;124mmodule \u001B[39m\u001B[38;5;132;01m{\u001B[39;00m\u001B[38;5;28mcls\u001B[39m\u001B[38;5;241m.\u001B[39m\u001B[38;5;18m__module__\u001B[39m\u001B[38;5;132;01m!r}\u001B[39;00m\u001B[38;5;124m has no attribute \u001B[39m\u001B[38;5;132;01m{\u001B[39;00mname\u001B[38;5;132;01m!r}\u001B[39;00m\u001B[38;5;124m\"\u001B[39m)\n",
        "\u001B[0;31mAttributeError\u001B[0m: module 'matplotlib' has no attribute 'ylabel'"
       ],
       "type": "baseError"
      }
     },
     "output_type": "display_data"
    }
   ],
   "source": [
    "oktoberfest_df['TiesPerGameRatio'].plot.bar(rot=0, color='red', figsize=(12, 4))\n",
    "plt.ylabel('TiesPerGameRatio')\n",
    "plt.show()"
   ]
  },
  {
   "cell_type": "code",
   "execution_count": 0,
   "metadata": {
    "application/vnd.databricks.v1+cell": {
     "cellMetadata": {
      "byteLimit": 2048000,
      "rowLimit": 10000
     },
     "inputWidgets": {},
     "nuid": "7755df7c-663f-4085-93e4-0c2e24c6fcf2",
     "showTitle": false,
     "title": ""
    }
   },
   "outputs": [
    {
     "output_type": "stream",
     "name": "stdout",
     "output_type": "stream",
     "text": [
      "+------+-----+--------+-----+-----------------+----------------+\n|Season|Goals|GameTies|Total|GoalsPerGameRatio|TiesPerGameRatio|\n+------+-----+--------+-----+-----------------+----------------+\n|  2003|  909|      72|  306|             2.97|            0.24|\n|  2000|  897|      69|  306|             2.93|            0.23|\n|  2008|  894|      74|  306|             2.92|            0.24|\n|  2001|  893|      68|  306|             2.92|            0.22|\n|  2010|  894|      63|  306|             2.92|            0.21|\n+------+-----+--------+-----+-----------------+----------------+\n\n"
     ]
    }
   ],
   "source": [
    "# Which season of Bundesliga was the most competitive in the last decade?\n",
    "df1 = bundesliga_df.groupBy('Season') \\\n",
    "                       .agg(sum(col('HomeTeamGoals')+col('AwayTeamGoals')).alias('Goals'),\n",
    "                            sum('GameTie').alias('GameTies'),\n",
    "                            count(col('FinalResult')).alias('Total')) \\\n",
    "                       .withColumn('GoalsPerGameRatio', round(col('Goals')/col('Total'),2)) \\\n",
    "                       .withColumn('TiesPerGameRatio',round(col('GameTies')/col('Total'),2)) \\\n",
    "                       .orderBy(desc('GoalsPerGameRatio'),desc('TiesPerGameRatio'))\n",
    "df1.limit(5).show()"
   ]
  },
  {
   "cell_type": "code",
   "execution_count": 0,
   "metadata": {
    "application/vnd.databricks.v1+cell": {
     "cellMetadata": {
      "byteLimit": 2048000,
      "rowLimit": 10000
     },
     "inputWidgets": {},
     "nuid": "6ceef0a6-e1c6-4401-a942-104abed3b961",
     "showTitle": false,
     "title": ""
    }
   },
   "outputs": [
    {
     "output_type": "display_data",
     "data": {
      "image/png": "[encoded data removed]",
      "text/plain": [
       "<Figure size 640x480 with 1 Axes>"
      ]
     },
     "metadata": {},
     "output_type": "display_data"
    }
   ],
   "source": [
    "import matplotlib.pyplot as pl\n",
    "q4_df = df1.orderBy(col('Season')).toPandas()\n",
    "# Plot a simple line chart\n",
    "pl.plot(q4_df['Season'], q4_df['GoalsPerGameRatio'], label='Line 1')  # Plot the first line\n",
    "pl.plot(q4_df['Season'], q4_df['TiesPerGameRatio'], label='Line 2')  # Plot the second line\n",
    "\n",
    "# Customize the plot (optional)\n",
    "pl.title(\"Season Wise GoalsPerGameRation\")\n",
    "pl.xlabel(\"X-axis\")\n",
    "pl.ylabel(\"Y-axis\")\n",
    "pl.legend()  # Show legend with labels for each line\n",
    "\n",
    "# Display the plot\n",
    "pl.show()"
   ]
  },
  {
   "cell_type": "code",
   "execution_count": 0,
   "metadata": {
    "application/vnd.databricks.v1+cell": {
     "cellMetadata": {
      "byteLimit": 2048000,
      "rowLimit": 10000
     },
     "inputWidgets": {},
     "nuid": "c8807884-48cc-4320-820b-d89cf08b7ee2",
     "showTitle": false,
     "title": ""
    }
   },
   "outputs": [
    {
     "output_type": "stream",
     "name": "stdout",
     "output_type": "stream",
     "text": [
      "+-----+-----+--------+-----+-----------------+----------------+\n|Month|Goals|GameTies|Total|GoalsPerGameRatio|TiesPerGameRatio|\n+-----+-----+--------+-----+-----------------+----------------+\n|    1|  386|      27|  140|             2.76|            0.19|\n|    2| 1108|     110|  415|             2.67|            0.27|\n|    3| 1076|      96|  386|             2.79|            0.25|\n|    4| 1138|      90|  416|             2.74|            0.22|\n|    5|  993|      65|  308|             3.22|            0.21|\n+-----+-----+--------+-----+-----------------+----------------+\n\n"
     ]
    }
   ],
   "source": [
    "# What's the best month to watch Bundesliga?\n",
    "df2 = bundesliga_df.withColumn('Month', month(col('Date'))) \\\n",
    "                       .groupBy('Month')\\\n",
    "                       .agg(sum(col('HomeTeamGoals')+col('AwayTeamGoals')).alias('Goals'),\n",
    "                            sum('GameTie').alias('GameTies'),\n",
    "                            count(col('FinalResult')).alias('Total')) \\\n",
    "                       .withColumn('GoalsPerGameRatio', round(col('Goals')/col('Total'),2)) \\\n",
    "                       .withColumn('TiesPerGameRatio',round(col('GameTies')/col('Total'),2)) \\\n",
    "                       .orderBy('Month')\n",
    "df2.limit(5).show()"
   ]
  },
  {
   "cell_type": "code",
   "execution_count": 0,
   "metadata": {
    "application/vnd.databricks.v1+cell": {
     "cellMetadata": {
      "byteLimit": 2048000,
      "rowLimit": 10000
     },
     "inputWidgets": {},
     "nuid": "f6e4c9ad-2886-40a6-bc8e-2bdcd541625f",
     "showTitle": false,
     "title": ""
    }
   },
   "outputs": [
    {
     "output_type": "display_data",
     "data": {
      "image/png": "[encoded data removed]",
      "text/plain": [
       "<Figure size 640x480 with 1 Axes>"
      ]
     },
     "metadata": {},
     "output_type": "display_data"
    }
   ],
   "source": [
    "q5_df = df2.toPandas()\n",
    "# Plot a simple line chart\n",
    "pl.plot(q5_df['Month'], q4_df['GoalsPerGameRatio'], label='Line 1')  # Plot the first line\n",
    "#pl.plot(q4_df['Month'], q4_df['TiesPerGameRatio'], label='Line 2')  # Plot the second line\n",
    "\n",
    "# Customize the plot (optional)\n",
    "pl.title(\"MonthWiseGoalsPerGameRation\")\n",
    "pl.xlabel(\"X-axis\")\n",
    "pl.ylabel(\"Y-axis\")\n",
    "\n",
    "# Display the plot\n",
    "pl.show()\n",
    "\n",
    "#As we see the 4th month"
   ]
  },
  {
   "cell_type": "code",
   "execution_count": 0,
   "metadata": {
    "application/vnd.databricks.v1+cell": {
     "cellMetadata": {},
     "inputWidgets": {},
     "nuid": "25fa1f2e-84fe-442e-b0b0-c7ccd5415ebe",
     "showTitle": false,
     "title": ""
    }
   },
   "outputs": [],
   "source": [
    "#"
   ]
  }
 ],
 "metadata": {
  "application/vnd.databricks.v1+notebook": {
   "dashboards": [],
   "language": "python",
   "notebookMetadata": {
    "pythonIndentUnit": 4
   },
   "notebookName": "Data Wrangling using PySpark",
   "widgets": {}
  }
 },
 "nbformat": 4,
 "nbformat_minor": 0
}
